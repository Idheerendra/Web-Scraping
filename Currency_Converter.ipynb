{
  "nbformat": 4,
  "nbformat_minor": 0,
  "metadata": {
    "colab": {
      "provenance": [],
      "authorship_tag": "ABX9TyMXbpR09zO7x78K4iqvjqLW",
      "include_colab_link": true
    },
    "kernelspec": {
      "name": "python3",
      "display_name": "Python 3"
    },
    "language_info": {
      "name": "python"
    }
  },
  "cells": [
    {
      "cell_type": "markdown",
      "metadata": {
        "id": "view-in-github",
        "colab_type": "text"
      },
      "source": [
        "<a href=\"https://colab.research.google.com/github/Idheerendra/Web-Scraping/blob/main/Currency_Converter.ipynb\" target=\"_parent\"><img src=\"https://colab.research.google.com/assets/colab-badge.svg\" alt=\"Open In Colab\"/></a>"
      ]
    },
    {
      "cell_type": "markdown",
      "source": [
        "**1**. **Develop a program that converts between different currencies. Fetch the exchange rates from an API and allow the user to input the amount and select the currencies.**"
      ],
      "metadata": {
        "id": "EgvEA7zLxOio"
      }
    },
    {
      "cell_type": "markdown",
      "source": [
        "We will start from importing library"
      ],
      "metadata": {
        "id": "UTr3GYcozFo7"
      }
    },
    {
      "cell_type": "code",
      "source": [
        "import requests       # We import the requests library, which allows us to send HTTP requests to the API."
      ],
      "metadata": {
        "id": "GxXJPVyKxtit"
      },
      "execution_count": null,
      "outputs": []
    },
    {
      "cell_type": "code",
      "source": [
        "#we're using the exchangerate-api.com API, which requires a base currency (USD) to fetch exchange rates against various currencies.\n",
        "\n",
        "api_endpoint = \"https://api.exchangerate-api.com/v4/latest/USD\"    #We define the API endpoint URL, which provides exchange rates\n",
        "response = requests.get(api_endpoint)        #We use the requests.get() function to send a GET request to the API endpoint\n",
        "data = response.json()\n",
        "   #Then we extract the response data in JSON format using response.json()\n",
        "exchange_rates = data[\"rates\"]             #we store the exchange rates in the exchange_rates dictionary.\n",
        "\n",
        "#We prompt the user to input the amount, the currency they want to convert from, and the currency they want to convert to\n",
        "\n",
        "amount = int(input(\"Enter the amount to convert: \"))   #We convert the amount to a int data type and convert the currency codes to uppercase for consistency.\n",
        "from_currency = input(\"Enter the currency to convert from (3-letter code): \").upper()\n",
        "to_currency = input(\"Enter the currency to convert to (3-letter code): \").upper()\n",
        "\n",
        "\n",
        "if from_currency != \"USD\":    #If the currency to convert from is not USD, we divide the amount by the exchange rate of the from_currency to convert it to USD.\n",
        "    amount /= exchange_rates[from_currency]    #we multiply the amount by the exchange rate of the to_currency to obtain the converted amount.\n",
        "converted_amount = round(amount * exchange_rates[to_currency], 2)\n",
        "\n",
        "print(f\"{amount:.2f} {from_currency} = {converted_amount:.2f} {to_currency}\")    #It will print the original amount, the original currency, the converted amount, and the converted currency to the user."
      ],
      "metadata": {
        "id": "2Hk89_qJyPUJ"
      },
      "execution_count": null,
      "outputs": []
    },
    {
      "cell_type": "markdown",
      "source": [
        "1. What is HTTP and what its use.\n",
        "\n",
        "Hypertext Transfer Protocol (HTTP) is a method for encoding and transporting information between a client (such as a web browser) and a web server. HTTP is the primary protocol for transmission of information across the Internet.\n",
        "\n",
        "It is used to load web pages using hypertext links."
      ],
      "metadata": {
        "id": "i2d1Ks5uFiRO"
      }
    },
    {
      "cell_type": "markdown",
      "source": [
        "2. **What is JSON and its uses.**"
      ],
      "metadata": {
        "id": "i5r_o1b3JX4_"
      }
    },
    {
      "cell_type": "markdown",
      "source": [
        "1. JavaScript Object Notation (JSON) is a standard text-based format for representing structured data based on JavaScript object syntax.\n",
        "\n",
        "2. JSON is perfect for storing temporary data.\n",
        "\n",
        "For example, temporary data can be user-generated data, such as a submitted form on a website. JSON can also be used as a data format for any programming language to provide a high level of interoperability."
      ],
      "metadata": {
        "id": "zgmBEUPdJric"
      }
    },
    {
      "cell_type": "code",
      "source": [],
      "metadata": {
        "id": "bm15ys_AGXar"
      },
      "execution_count": null,
      "outputs": []
    }
  ]
}